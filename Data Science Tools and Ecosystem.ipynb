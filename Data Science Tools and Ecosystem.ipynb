{
 "cells": [
  {
   "cell_type": "markdown",
   "id": "0219e297",
   "metadata": {},
   "source": [
    "# Data Science Tools and Ecosystem"
   ]
  },
  {
   "cell_type": "markdown",
   "id": "366cea60",
   "metadata": {},
   "source": [
    "## Introduction\n",
    "In this notebook, we summarize some of the most commonly used tools, libraries, and languages in the field of data science.\n"
   ]
  },
  {
   "cell_type": "markdown",
   "id": "b6792531",
   "metadata": {},
   "source": [
    "## Data Science Languages\n",
    "- Python  \n",
    "- R  \n",
    "- SQL  \n",
    "- Julia  \n",
    "- Scala\n"
   ]
  },
  {
   "cell_type": "markdown",
   "id": "c841ffc5",
   "metadata": {},
   "source": [
    "## Data Science Libraries\n",
    "Some of the most popular data science libraries include:\n",
    "- Pandas  \n",
    "- NumPy  \n",
    "- Scikit-learn  \n",
    "- Matplotlib  \n",
    "- TensorFlow\n"
   ]
  },
  {
   "cell_type": "markdown",
   "id": "166b5fcf",
   "metadata": {},
   "source": [
    "## Data Science Tools\n",
    "\n",
    "| Category         | Tool Name       |\n",
    "|------------------|-----------------|\n",
    "| Data Analysis     | Pandas          |\n",
    "| Data Visualization| Matplotlib      |\n",
    "| Machine Learning  | Scikit-learn    |\n",
    "| Deep Learning     | TensorFlow      |\n",
    "| Big Data          | Apache Spark    |\n"
   ]
  },
  {
   "cell_type": "markdown",
   "id": "efbd9af4",
   "metadata": {},
   "source": [
    "## Arithmetic Expression Examples\n",
    "Below are examples of arithmetic expressions like addition and multiplication.\n"
   ]
  },
  {
   "cell_type": "code",
   "execution_count": 11,
   "id": "115bc756",
   "metadata": {},
   "outputs": [
    {
     "data": {
      "text/plain": [
       "17"
      ]
     },
     "execution_count": 11,
     "metadata": {},
     "output_type": "execute_result"
    }
   ],
   "source": [
    "# This will multiply 3 by 4 and then add 5\n",
    "(3 * 4) + 5\n"
   ]
  },
  {
   "cell_type": "code",
   "execution_count": 12,
   "id": "874b050d",
   "metadata": {},
   "outputs": [
    {
     "data": {
      "text/plain": [
       "3.3333333333333335"
      ]
     },
     "execution_count": 12,
     "metadata": {},
     "output_type": "execute_result"
    }
   ],
   "source": [
    "# This will convert 200 minutes to hours by dividing by 60\n",
    "minutes = 200\n",
    "hours = minutes / 60\n",
    "hours\n"
   ]
  },
  {
   "cell_type": "markdown",
   "id": "6999238d",
   "metadata": {},
   "source": [
    "## Objectives\n",
    "- List popular languages used in data science  \n",
    "- List commonly used libraries in data science  \n",
    "- Show examples of arithmetic expressions  \n",
    "- Convert minutes to hours using Python code  \n",
    "- Demonstrate use of markdown and code cells in a Jupyter Notebook\n"
   ]
  },
  {
   "cell_type": "markdown",
   "id": "2d8691cf",
   "metadata": {},
   "source": [
    "## Author\n",
    "**Rudraneel Sannigrahi**\n"
   ]
  },
  {
   "cell_type": "code",
   "execution_count": null,
   "id": "c830504e",
   "metadata": {},
   "outputs": [],
   "source": []
  },
  {
   "cell_type": "code",
   "execution_count": null,
   "id": "c74de838",
   "metadata": {},
   "outputs": [],
   "source": []
  }
 ],
 "metadata": {
  "kernelspec": {
   "display_name": "Python 3 (ipykernel)",
   "language": "python",
   "name": "python3"
  },
  "language_info": {
   "codemirror_mode": {
    "name": "ipython",
    "version": 3
   },
   "file_extension": ".py",
   "mimetype": "text/x-python",
   "name": "python",
   "nbconvert_exporter": "python",
   "pygments_lexer": "ipython3",
   "version": "3.11.5"
  }
 },
 "nbformat": 4,
 "nbformat_minor": 5
}
